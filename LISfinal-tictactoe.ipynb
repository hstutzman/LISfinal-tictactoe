{
 "cells": [
  {
   "cell_type": "code",
   "execution_count": 77,
   "id": "072873cf-e77a-41a8-97a7-c472f96cf84a",
   "metadata": {
    "tags": []
   },
   "outputs": [],
   "source": [
    "import tkinter as tk"
   ]
  },
  {
   "cell_type": "code",
   "execution_count": 78,
   "id": "f3ad6d1e-60b0-4e3f-842c-7b321f66092b",
   "metadata": {
    "tags": []
   },
   "outputs": [],
   "source": [
    "from tkinter import messagebox"
   ]
  },
  {
   "cell_type": "code",
   "execution_count": 79,
   "id": "e535396d-1462-40c2-9a04-c21723adbd9c",
   "metadata": {
    "tags": []
   },
   "outputs": [],
   "source": [
    "import random"
   ]
  },
  {
   "cell_type": "code",
   "execution_count": 80,
   "id": "550df817-9db0-402d-a5f6-079bdb4c83bf",
   "metadata": {
    "tags": []
   },
   "outputs": [],
   "source": [
    "def check_win():\n",
    "    global board\n",
    "    \n",
    "    # Check rows for a win\n",
    "    for row in range(3):\n",
    "        if board[row][0] == board[row][1] == board[row][2] and board[row][0] != \"-\":\n",
    "            return True\n",
    "        \n",
    "    # Check columns for a win\n",
    "    for col in range(3):\n",
    "        if board[0][col] == board[1][col] == board[2][col] and board[0][col] != \"-\":\n",
    "            return True\n",
    "        \n",
    "    # Check diagonals for a win \n",
    "    if board[0][0] == board [1][1] == board [2][2] and board [0][0] != \"-\":\n",
    "        return True\n",
    "    if board[0][2] == board[1][1] == board[2][0] and board[0][2] != \"-\":\n",
    "        return True \n",
    "    \n",
    "    return False"
   ]
  },
  {
   "cell_type": "code",
   "execution_count": 81,
   "id": "01cb30f4-4b0e-4108-b13c-05b287d7df5c",
   "metadata": {
    "tags": []
   },
   "outputs": [],
   "source": [
    "def check_draw():\n",
    "    for row in range(3):\n",
    "        for col in range(3):\n",
    "            if board[row][col] == \"-\":\n",
    "                return False\n",
    "    return True"
   ]
  },
  {
   "cell_type": "code",
   "execution_count": 82,
   "id": "516e1036-be9d-4ef1-82d6-19f15e7998fa",
   "metadata": {
    "tags": []
   },
   "outputs": [],
   "source": [
    "def make_move(row, col):\n",
    "    global player, board, single_player\n",
    "    \n",
    "    if board[row][col] == \"-\":\n",
    "        board[row][col] = player\n",
    "        buttons[row][col].config(text=player)\n",
    "        \n",
    "        # Check for win or draw\n",
    "        if check_win():\n",
    "            messagebox.showinfo(\"Game Over\", f\"Player {player} wins!\")\n",
    "            reset_board()\n",
    "        elif check_draw():\n",
    "            messagebox.showinfo(\"Game Over\", \"It's a draw!\")\n",
    "            reset_board()\n",
    "        \n",
    "        # Switch to the other player\n",
    "        player = \"X\" if player == \"O\" else\"O\"\n",
    "        \n",
    "        # If single-player and it's AI's turn, make AI move\n",
    "        if single_player and player == \"O\":\n",
    "            ai_move()"
   ]
  },
  {
   "cell_type": "code",
   "execution_count": 83,
   "id": "50a66dce-8714-446c-80ce-9467a1cc8de2",
   "metadata": {
    "tags": []
   },
   "outputs": [],
   "source": [
    "def ai_move():\n",
    "    global board\n",
    "    \n",
    "    # Get a list of empty cells\n",
    "    empty_cells = [(row, col) for row in range(3) for col in range(3) if board[row][col] == \"-\"]\n",
    "    \n",
    "    if empty_cells:\n",
    "        # Select a random empty cell for AI move \n",
    "        row, col = random.choice(empty_cells)\n",
    "        make_move(row, col)"
   ]
  },
  {
   "cell_type": "code",
   "execution_count": 84,
   "id": "2c66bffb-8bed-4a4c-a98d-34dca20ad9ee",
   "metadata": {
    "tags": []
   },
   "outputs": [],
   "source": [
    "def create_board():\n",
    "    buttons = [[None for _ in range(3)] for _ in range(3)]\n",
    "    for row in range(3):\n",
    "        for col in range(3):\n",
    "            button = tk.Button(root, text=\"-\", font=(\"Arial\", 20), width=5, height=2, command=lambda r=row, c=col:make_move(r, c))\n",
    "            button.grid(row=row, column=col)\n",
    "            buttons[row][col] = button\n",
    "    return buttons"
   ]
  },
  {
   "cell_type": "code",
   "execution_count": 85,
   "id": "1b6d81a1-4e87-4094-98a0-1b94f6fdda66",
   "metadata": {
    "tags": []
   },
   "outputs": [],
   "source": [
    "def reset_board():\n",
    "    global board, player\n",
    "    for row in range(3):\n",
    "        for col in range(3):\n",
    "            board[row][col] = \"-\"\n",
    "            buttons[row][col].config(text=\"-\")\n",
    "    player = \"X\""
   ]
  },
  {
   "cell_type": "code",
   "execution_count": 86,
   "id": "080dd8b0-c5fd-4967-a0bf-81ea3bf00378",
   "metadata": {
    "tags": []
   },
   "outputs": [],
   "source": [
    "if __name__ == \"__main__\":\n",
    "    root = tk.Tk()\n",
    "    root.title(\"Tic Tac Toe\")\n",
    "    root.geometry(\"300x300\")\n",
    "    \n",
    "    single_player = True # Set to False for two-player mode\n",
    "    player = \"X\"\n",
    "    board = [[\"-\" for _ in range(3)] for _ in range(3)]\n",
    "    buttons = create_board()\n",
    "    \n",
    "    root.mainloop()"
   ]
  },
  {
   "cell_type": "code",
   "execution_count": null,
   "id": "23506c68-6da7-44f5-8a8e-52d569c5a406",
   "metadata": {},
   "outputs": [],
   "source": []
  },
  {
   "cell_type": "code",
   "execution_count": null,
   "id": "9e445610-c44b-4485-82df-95806a1d4d4a",
   "metadata": {},
   "outputs": [],
   "source": []
  }
 ],
 "metadata": {
  "kernelspec": {
   "display_name": "Python 3 (ipykernel)",
   "language": "python",
   "name": "python3"
  },
  "language_info": {
   "codemirror_mode": {
    "name": "ipython",
    "version": 3
   },
   "file_extension": ".py",
   "mimetype": "text/x-python",
   "name": "python",
   "nbconvert_exporter": "python",
   "pygments_lexer": "ipython3",
   "version": "3.11.3"
  }
 },
 "nbformat": 4,
 "nbformat_minor": 5
}
